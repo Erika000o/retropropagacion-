{
  "nbformat": 4,
  "nbformat_minor": 0,
  "metadata": {
    "colab": {
      "provenance": [],
      "gpuType": "V28",
      "authorship_tag": "ABX9TyPOz6nyKfNrLfRbZTTs1318",
      "include_colab_link": true
    },
    "kernelspec": {
      "name": "python3",
      "display_name": "Python 3"
    },
    "language_info": {
      "name": "python"
    },
    "accelerator": "TPU"
  },
  "cells": [
    {
      "cell_type": "markdown",
      "metadata": {
        "id": "view-in-github",
        "colab_type": "text"
      },
      "source": [
        "<a href=\"https://colab.research.google.com/github/Erika000o/retropropagacion-/blob/main/Aceleraci%C3%B3n_del_aprendizaje_Momentum_.ipynb\" target=\"_parent\"><img src=\"https://colab.research.google.com/assets/colab-badge.svg\" alt=\"Open In Colab\"/></a>"
      ]
    },
    {
      "cell_type": "markdown",
      "source": [
        "#Acelarion del aprendizaje ususando Momentum en Pytoch"
      ],
      "metadata": {
        "id": "YZ6hWkLpoGqk"
      }
    },
    {
      "cell_type": "code",
      "execution_count": 4,
      "metadata": {
        "id": "3xLsnrnCm7Dk"
      },
      "outputs": [],
      "source": [
        "import torch\n",
        "import torch.nn as nn\n",
        "import torch.optim as optim\n",
        "\n",
        "#Definir el modelo\n",
        "class SimpleNN(nn.Module):\n",
        "  def __init__(self):\n",
        "    super(SimpleNN, self).__init__()\n",
        "    self.fc = nn.Linear(784, 10)# Leer imagenes\n",
        "\n",
        "  def forward(self, x):\n",
        "    return torch.softmax(self.fc(x), dim=1)"
      ]
    },
    {
      "cell_type": "code",
      "source": [
        "#Inicializar el modelo, criterio y optimazador\n",
        "model = SimpleNN()\n",
        "criterion = nn.CrossEntropyLoss() #etropia cruzado = loss = perdida\n",
        "optimizer = optim.SGD(model.parameters(), lr=0.01, momentum=0.9)"
      ],
      "metadata": {
        "id": "ilkOi26zpgnG"
      },
      "execution_count": 5,
      "outputs": []
    },
    {
      "cell_type": "code",
      "source": [
        "#crear datos de entretenimiento aletarios\n",
        "X_train = torch.randn(100, 784)\n",
        "y_train = torch.randint(0, 10, (100,))\n",
        "\n",
        "#Entrenamiento el modelo\n",
        "for epoch in range(10):\n",
        "  optimizer.zero_grad()\n",
        "  outputs = model(X_train)\n",
        "  loss = criterion(outputs, y_train)\n",
        "  loss.backward()\n",
        "  optimizer.step()\n",
        "\n",
        "  print(f'Epoch [{epoch+1}/10], Loss: {loss.item():.4f}')"
      ],
      "metadata": {
        "colab": {
          "base_uri": "https://localhost:8080/"
        },
        "id": "4Drrx6fNrpih",
        "outputId": "ea510917-f52e-4354-e3c1-9476a4556bf9"
      },
      "execution_count": 6,
      "outputs": [
        {
          "output_type": "stream",
          "name": "stdout",
          "text": [
            "Epoch [1/10], Loss: 2.3103\n",
            "Epoch [2/10], Loss: 2.3096\n",
            "Epoch [3/10], Loss: 2.3082\n",
            "Epoch [4/10], Loss: 2.3061\n",
            "Epoch [5/10], Loss: 2.3035\n",
            "Epoch [6/10], Loss: 2.3002\n",
            "Epoch [7/10], Loss: 2.2963\n",
            "Epoch [8/10], Loss: 2.2917\n",
            "Epoch [9/10], Loss: 2.2864\n",
            "Epoch [10/10], Loss: 2.2805\n"
          ]
        }
      ]
    },
    {
      "cell_type": "code",
      "source": [],
      "metadata": {
        "id": "NNP1AiiPzELd"
      },
      "execution_count": null,
      "outputs": []
    }
  ]
}